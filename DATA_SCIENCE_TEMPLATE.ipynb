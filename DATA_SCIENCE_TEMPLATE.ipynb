{
  "nbformat": 4,
  "nbformat_minor": 0,
  "metadata": {
    "colab": {
      "provenance": [],
      "toc_visible": true,
      "authorship_tag": "ABX9TyMW8aOtBlU7LRWfXJ5aRiUt",
      "include_colab_link": true
    },
    "kernelspec": {
      "name": "python3",
      "display_name": "Python 3"
    },
    "language_info": {
      "name": "python"
    }
  },
  "cells": [
    {
      "cell_type": "markdown",
      "metadata": {
        "id": "view-in-github",
        "colab_type": "text"
      },
      "source": [
        "<a href=\"https://colab.research.google.com/github/srivatsa/ds-starter/blob/main/DATA_SCIENCE_TEMPLATE.ipynb\" target=\"_parent\"><img src=\"https://colab.research.google.com/assets/colab-badge.svg\" alt=\"Open In Colab\"/></a>"
      ]
    },
    {
      "cell_type": "markdown",
      "source": [
        "# TEMPLATE FOR A DATA SCIENCE NOTEBOOK"
      ],
      "metadata": {
        "id": "d23EbJnNPH-K"
      }
    },
    {
      "cell_type": "markdown",
      "source": [
        "### INGEST"
      ],
      "metadata": {
        "id": "KaNHTCHaaiyt"
      }
    },
    {
      "cell_type": "code",
      "source": [
        "# code for ingest"
      ],
      "metadata": {
        "id": "bgbmUojMPJI3"
      },
      "execution_count": null,
      "outputs": []
    },
    {
      "cell_type": "markdown",
      "source": [
        "### EDA"
      ],
      "metadata": {
        "id": "9gzrOuIeajvB"
      }
    },
    {
      "cell_type": "code",
      "source": [
        "# code for EDA"
      ],
      "metadata": {
        "id": "_WdInkCgPMat"
      },
      "execution_count": null,
      "outputs": []
    },
    {
      "cell_type": "markdown",
      "source": [
        "### Model\n"
      ],
      "metadata": {
        "id": "yk0xN4z0a-HE"
      }
    },
    {
      "cell_type": "markdown",
      "source": [
        "#### CLASSIFICATION ALGORITHM 1"
      ],
      "metadata": {
        "id": "Bk1ONuVHbnrC"
      }
    },
    {
      "cell_type": "code",
      "source": [
        "# CODE FOR CLASSIFICATION ALGORITHM 1"
      ],
      "metadata": {
        "id": "vFNpMtpcPRE0"
      },
      "execution_count": null,
      "outputs": []
    },
    {
      "cell_type": "markdown",
      "source": [
        "#### CLASSIFICATION ALGORITHM 2"
      ],
      "metadata": {
        "id": "s8hiH3Z6bwlp"
      }
    },
    {
      "cell_type": "code",
      "source": [
        "# CODE FOR CLASSIFICATION ALGORITHM 2"
      ],
      "metadata": {
        "id": "6t48KiNeb0fL"
      },
      "execution_count": null,
      "outputs": []
    },
    {
      "cell_type": "markdown",
      "source": [
        "### Conclusions"
      ],
      "metadata": {
        "id": "WnEt4bgIbD1g"
      }
    },
    {
      "cell_type": "code",
      "source": [],
      "metadata": {
        "id": "obQvhGVoPWeN"
      },
      "execution_count": null,
      "outputs": []
    }
  ]
}